{
  "nbformat": 4,
  "nbformat_minor": 0,
  "metadata": {
    "colab": {
      "provenance": [],
      "gpuType": "T4"
    },
    "kernelspec": {
      "name": "python3",
      "display_name": "Python 3"
    },
    "language_info": {
      "name": "python"
    },
    "accelerator": "GPU"
  },
  "cells": [
    {
      "cell_type": "markdown",
      "source": [
        "Q-12. A pharmaceutical company develops a new drug and wants to compare its\n",
        "effectiveness against a standard drug for treating a particular condition. They conduct a\n",
        "study with two groups: Group A receives the new drug, and Group B receives the standard drug. The company measures the improvement in a specific symptom for both groups after a 4-week treatment period.\n",
        "\n",
        "a. The company collects data from 30 patients in each group and calculates the\n",
        "mean improvement score and the standard deviation of improvement for each\n",
        "group. The mean improvement score for Group A is 2.5 with a standard\n",
        "deviation of 0.8, while the mean improvement score for Group B is 2.2 with a\n",
        "standard deviation of 0.6. Conduct a t-test to determine if there is a significant\n",
        "difference in the mean improvement scores between the two groups. Use a\n",
        "significance level of 0.05.\n",
        "\n",
        "b. Based on the t-test results, state whether the null hypothesis should be\n",
        "rejected or not. Provide a conclusion in the context of the study.\n"
      ],
      "metadata": {
        "id": "0NLQ1YFQAJtf"
      }
    },
    {
      "cell_type": "code",
      "source": [
        "import scipy.stats as stats\n",
        "\n",
        "# Given data\n",
        "meanA = 2.5\n",
        "stdDevA = 0.8\n",
        "nA = 30\n",
        "\n",
        "meanB = 2.2\n",
        "stdDevB = 0.6\n",
        "nB = 30\n",
        "\n",
        "# Calculate the test statistic (t-value)\n",
        "squaredDevA = stdDevA ** 2\n",
        "squaredDevB = stdDevB ** 2\n",
        "t = (meanA - meanB) / ((squaredDevA / nA) + (squaredDevB / nB)) ** 0.5\n",
        "\n",
        "# Calculate the degrees of freedom\n",
        "df = nA + nB - 2\n",
        "\n",
        "# Calculate the critical t-value for a two-tailed test at 0.05 significance level\n",
        "critical_t = stats.t.ppf(0.025, df)\n",
        "\n",
        "# Compare the calculated t-value with the critical t-value\n",
        "if t > critical_t:\n",
        "    conclusion = \"Reject the null hypothesis. There is a significant difference in the mean improvement scores between Group A and Group B.\"\n",
        "else:\n",
        "    conclusion = \"Fail to reject the null hypothesis. There is no significant difference in the mean improvement scores between Group A and Group B.\"\n",
        "\n",
        "# Print the conclusion\n",
        "print(conclusion)"
      ],
      "metadata": {
        "colab": {
          "base_uri": "https://localhost:8080/"
        },
        "id": "XmeELVLrQGVD",
        "outputId": "9b8c185d-84f9-40ae-c4a7-402b78a5bc54"
      },
      "execution_count": 50,
      "outputs": [
        {
          "output_type": "stream",
          "name": "stdout",
          "text": [
            "Reject the null hypothesis. There is a significant difference in the mean improvement scores between Group A and Group B.\n"
          ]
        }
      ]
    },
    {
      "cell_type": "code",
      "source": [],
      "metadata": {
        "id": "Oxpjvd4tQVvF"
      },
      "execution_count": null,
      "outputs": []
    }
  ]
}