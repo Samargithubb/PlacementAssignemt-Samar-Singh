{
  "nbformat": 4,
  "nbformat_minor": 0,
  "metadata": {
    "colab": {
      "provenance": [],
      "gpuType": "T4"
    },
    "kernelspec": {
      "name": "python3",
      "display_name": "Python 3"
    },
    "language_info": {
      "name": "python"
    },
    "accelerator": "GPU"
  },
  "cells": [
    {
      "cell_type": "markdown",
      "source": [
        "Question 1 -\n",
        "Implement 3 different CNN architectures with a comparison table for the MNSIT\n",
        "dataset using the Tensorflow library.\n",
        "Note -\n",
        "1. The model parameters for each architecture should not be more than 8000\n",
        "parameters\n",
        "2. Code comments should be given for proper code understanding.\n",
        "3. The minimum accuracy for each accuracy should be at least 96%\n"
      ],
      "metadata": {
        "id": "sgC4i_BbwrED"
      }
    },
    {
      "cell_type": "code",
      "source": [
        "import tensorflow as tf\n",
        "from tensorflow.keras.datasets import mnist\n",
        "from tensorflow.keras.models import Sequential\n",
        "from tensorflow.keras.layers import Conv2D, MaxPooling2D, Flatten, Dense"
      ],
      "metadata": {
        "id": "F11U04G1wtPJ"
      },
      "execution_count": 51,
      "outputs": []
    },
    {
      "cell_type": "code",
      "source": [
        "# Load the MNIST dataset\n",
        "(x_train, y_train), (x_test, y_test) = mnist.load_data()"
      ],
      "metadata": {
        "id": "gOYwZBUywwL-",
        "colab": {
          "base_uri": "https://localhost:8080/"
        },
        "outputId": "d3c18092-67e3-47bf-f030-d422df333010"
      },
      "execution_count": 52,
      "outputs": [
        {
          "output_type": "stream",
          "name": "stdout",
          "text": [
            "Downloading data from https://storage.googleapis.com/tensorflow/tf-keras-datasets/mnist.npz\n",
            "11490434/11490434 [==============================] - 0s 0us/step\n"
          ]
        }
      ]
    },
    {
      "cell_type": "code",
      "source": [
        "import matplotlib.pyplot as plt\n",
        "\n",
        "plt.imshow(x_train[0], cmap='gray')\n",
        "plt.title('First Image in Train Dataset')\n",
        "plt.axis('off')\n",
        "plt.show()\n",
        "print(y_train[0])"
      ],
      "metadata": {
        "colab": {
          "base_uri": "https://localhost:8080/",
          "height": 445
        },
        "id": "Lp2Nz29f2o0R",
        "outputId": "9866a2f5-243c-4a62-faff-f89ea75da8d6"
      },
      "execution_count": 56,
      "outputs": [
        {
          "output_type": "display_data",
          "data": {
            "text/plain": [
              "<Figure size 640x480 with 1 Axes>"
            ],
            "image/png": "[encoded data removed]"
          },
          "metadata": {}
        },
        {
          "output_type": "stream",
          "name": "stdout",
          "text": [
            "5\n"
          ]
        }
      ]
    },
    {
      "cell_type": "code",
      "source": [
        "import matplotlib.pyplot as plt\n",
        "\n",
        "plt.imshow(x_train[4], cmap='gray')\n",
        "plt.title('First Image in Train Dataset')\n",
        "plt.axis('off')\n",
        "plt.show()\n",
        "print(y_train[4])"
      ],
      "metadata": {
        "colab": {
          "base_uri": "https://localhost:8080/",
          "height": 445
        },
        "id": "5cHchHIN2uPU",
        "outputId": "f9dc3545-d908-49bb-ff24-80c45332beb2"
      },
      "execution_count": 57,
      "outputs": [
        {
          "output_type": "display_data",
          "data": {
            "text/plain": [
              "<Figure size 640x480 with 1 Axes>"
            ],
            "image/png": "[encoded data removed]"
          },
          "metadata": {}
        },
        {
          "output_type": "stream",
          "name": "stdout",
          "text": [
            "9\n"
          ]
        }
      ]
    },
    {
      "cell_type": "code",
      "source": [
        "# Preprocess the data\n",
        "x_train = x_train.reshape(-1, 28, 28, 1) / 255.0\n",
        "x_test = x_test.reshape(-1, 28, 28, 1) / 255.0\n",
        "y_train = tf.keras.utils.to_categorical(y_train, 10)\n",
        "y_test = tf.keras.utils.to_categorical(y_test, 10)\n"
      ],
      "metadata": {
        "id": "m78SZfZy3HC8"
      },
      "execution_count": 58,
      "outputs": []
    },
    {
      "cell_type": "code",
      "source": [
        "# Define the first CNN architecture\n",
        "model1 = Sequential()\n",
        "model1.add(Conv2D(32, (3, 3), activation='relu', input_shape=(28, 28, 1)))\n",
        "model1.add(MaxPooling2D((2, 2)))\n",
        "model1.add(Flatten())\n",
        "model1.add(Dense(64, activation='relu'))\n",
        "model1.add(Dense(10, activation='softmax'))"
      ],
      "metadata": {
        "id": "aoXFjskq3Ssd"
      },
      "execution_count": 59,
      "outputs": []
    },
    {
      "cell_type": "code",
      "source": [
        "# Compile and train the model\n",
        "model1.compile(optimizer='adam', loss='categorical_crossentropy', metrics=['accuracy'])\n",
        "model1.fit(x_train, y_train, epochs=10, batch_size=128, validation_data=(x_test, y_test))\n"
      ],
      "metadata": {
        "colab": {
          "base_uri": "https://localhost:8080/"
        },
        "id": "zf661hW63fQ7",
        "outputId": "6f9cf5e8-7bd6-45e7-edf0-aeac3e3893e1"
      },
      "execution_count": 60,
      "outputs": [
        {
          "output_type": "stream",
          "name": "stdout",
          "text": [
            "Epoch 1/10\n",
            "469/469 [==============================] - 14s 5ms/step - loss: 0.2361 - accuracy: 0.9339 - val_loss: 0.0938 - val_accuracy: 0.9709\n",
            "Epoch 2/10\n",
            "469/469 [==============================] - 2s 4ms/step - loss: 0.0754 - accuracy: 0.9783 - val_loss: 0.0692 - val_accuracy: 0.9784\n",
            "Epoch 3/10\n",
            "469/469 [==============================] - 2s 5ms/step - loss: 0.0527 - accuracy: 0.9845 - val_loss: 0.0463 - val_accuracy: 0.9844\n",
            "Epoch 4/10\n",
            "469/469 [==============================] - 3s 5ms/step - loss: 0.0405 - accuracy: 0.9882 - val_loss: 0.0538 - val_accuracy: 0.9818\n",
            "Epoch 5/10\n",
            "469/469 [==============================] - 2s 4ms/step - loss: 0.0322 - accuracy: 0.9903 - val_loss: 0.0451 - val_accuracy: 0.9845\n",
            "Epoch 6/10\n",
            "469/469 [==============================] - 2s 4ms/step - loss: 0.0255 - accuracy: 0.9923 - val_loss: 0.0386 - val_accuracy: 0.9873\n",
            "Epoch 7/10\n",
            "469/469 [==============================] - 2s 4ms/step - loss: 0.0194 - accuracy: 0.9944 - val_loss: 0.0487 - val_accuracy: 0.9847\n",
            "Epoch 8/10\n",
            "469/469 [==============================] - 2s 4ms/step - loss: 0.0159 - accuracy: 0.9952 - val_loss: 0.0399 - val_accuracy: 0.9869\n",
            "Epoch 9/10\n",
            "469/469 [==============================] - 2s 5ms/step - loss: 0.0132 - accuracy: 0.9960 - val_loss: 0.0451 - val_accuracy: 0.9860\n",
            "Epoch 10/10\n",
            "469/469 [==============================] - 4s 8ms/step - loss: 0.0110 - accuracy: 0.9969 - val_loss: 0.0418 - val_accuracy: 0.9871\n"
          ]
        },
        {
          "output_type": "execute_result",
          "data": {
            "text/plain": [
              "<keras.callbacks.History at 0x7f31924d1900>"
            ]
          },
          "metadata": {},
          "execution_count": 60
        }
      ]
    },
    {
      "cell_type": "code",
      "source": [
        "# Print the Summary \n",
        "model1.summary()"
      ],
      "metadata": {
        "colab": {
          "base_uri": "https://localhost:8080/"
        },
        "id": "i4DA-DuW4KUh",
        "outputId": "b6dc36c0-ff65-4d9a-fd82-e71d076ce623"
      },
      "execution_count": 63,
      "outputs": [
        {
          "output_type": "stream",
          "name": "stdout",
          "text": [
            "Model: \"sequential\"\n",
            "_________________________________________________________________\n",
            " Layer (type)                Output Shape              Param #   \n",
            "=================================================================\n",
            " conv2d (Conv2D)             (None, 26, 26, 32)        320       \n",
            "                                                                 \n",
            " max_pooling2d (MaxPooling2D  (None, 13, 13, 32)       0         \n",
            " )                                                               \n",
            "                                                                 \n",
            " flatten (Flatten)           (None, 5408)              0         \n",
            "                                                                 \n",
            " dense (Dense)               (None, 64)                346176    \n",
            "                                                                 \n",
            " dense_1 (Dense)             (None, 10)                650       \n",
            "                                                                 \n",
            "=================================================================\n",
            "Total params: 347,146\n",
            "Trainable params: 347,146\n",
            "Non-trainable params: 0\n",
            "_________________________________________________________________\n"
          ]
        }
      ]
    },
    {
      "cell_type": "code",
      "source": [
        "# Evaluate the model\n",
        "_, accuracy1 = model1.evaluate(x_test, y_test)"
      ],
      "metadata": {
        "colab": {
          "base_uri": "https://localhost:8080/"
        },
        "id": "9dyjSQkR3ikt",
        "outputId": "b8b76135-86a1-4736-a4a7-d0955acbb37b"
      },
      "execution_count": 61,
      "outputs": [
        {
          "output_type": "stream",
          "name": "stdout",
          "text": [
            "313/313 [==============================] - 1s 3ms/step - loss: 0.0418 - accuracy: 0.9871\n"
          ]
        }
      ]
    },
    {
      "cell_type": "code",
      "source": [
        "# Define the second CNN architecture\n",
        "model2 = Sequential()\n",
        "model2.add(Conv2D(16, (3,3), activation ='relu', input_shape=(28,28,1)))\n",
        "model2.add(MaxPooling2D())\n",
        "model2.add(Conv2D(32, (3,3), activation ='relu'))\n",
        "model2.add(MaxPooling2D())\n",
        "model2.add(Flatten())\n",
        "model2.add(Dense(64, activation='relu'))\n",
        "model2.add(Dense(10, activation='softmax'))"
      ],
      "metadata": {
        "id": "36PNIqrL334_"
      },
      "execution_count": 64,
      "outputs": []
    },
    {
      "cell_type": "code",
      "source": [
        "# Compile and train the model\n",
        "model2.compile(optimizer='adam', loss='categorical_crossentropy', metrics=['accuracy'])\n",
        "model2.fit(x_train, y_train, epochs=10, batch_size=128, validation_data=(x_test, y_test))\n"
      ],
      "metadata": {
        "colab": {
          "base_uri": "https://localhost:8080/"
        },
        "id": "mdCAGHz85IyY",
        "outputId": "d8f26be3-3370-4693-b738-a9977711f2f8"
      },
      "execution_count": 65,
      "outputs": [
        {
          "output_type": "stream",
          "name": "stdout",
          "text": [
            "Epoch 1/10\n",
            "469/469 [==============================] - 4s 5ms/step - loss: 0.3138 - accuracy: 0.9121 - val_loss: 0.0889 - val_accuracy: 0.9723\n",
            "Epoch 2/10\n",
            "469/469 [==============================] - 2s 4ms/step - loss: 0.0838 - accuracy: 0.9743 - val_loss: 0.0575 - val_accuracy: 0.9824\n",
            "Epoch 3/10\n",
            "469/469 [==============================] - 3s 6ms/step - loss: 0.0602 - accuracy: 0.9812 - val_loss: 0.0470 - val_accuracy: 0.9838\n",
            "Epoch 4/10\n",
            "469/469 [==============================] - 3s 7ms/step - loss: 0.0477 - accuracy: 0.9855 - val_loss: 0.0506 - val_accuracy: 0.9835\n",
            "Epoch 5/10\n",
            "469/469 [==============================] - 3s 6ms/step - loss: 0.0393 - accuracy: 0.9878 - val_loss: 0.0415 - val_accuracy: 0.9867\n",
            "Epoch 6/10\n",
            "469/469 [==============================] - 3s 7ms/step - loss: 0.0344 - accuracy: 0.9891 - val_loss: 0.0348 - val_accuracy: 0.9884\n",
            "Epoch 7/10\n",
            "469/469 [==============================] - 3s 6ms/step - loss: 0.0278 - accuracy: 0.9913 - val_loss: 0.0361 - val_accuracy: 0.9882\n",
            "Epoch 8/10\n",
            "469/469 [==============================] - 4s 9ms/step - loss: 0.0243 - accuracy: 0.9926 - val_loss: 0.0336 - val_accuracy: 0.9893\n",
            "Epoch 9/10\n",
            "469/469 [==============================] - 3s 7ms/step - loss: 0.0219 - accuracy: 0.9932 - val_loss: 0.0364 - val_accuracy: 0.9886\n",
            "Epoch 10/10\n",
            "469/469 [==============================] - 2s 5ms/step - loss: 0.0191 - accuracy: 0.9940 - val_loss: 0.0367 - val_accuracy: 0.9873\n"
          ]
        },
        {
          "output_type": "execute_result",
          "data": {
            "text/plain": [
              "<keras.callbacks.History at 0x7f31185aee90>"
            ]
          },
          "metadata": {},
          "execution_count": 65
        }
      ]
    },
    {
      "cell_type": "code",
      "source": [
        "# Model Summary\n",
        "model2.summary()"
      ],
      "metadata": {
        "colab": {
          "base_uri": "https://localhost:8080/"
        },
        "id": "8yFRnG665NY_",
        "outputId": "45511cbb-2a13-41e6-c2f0-7183bc1f5aa7"
      },
      "execution_count": 66,
      "outputs": [
        {
          "output_type": "stream",
          "name": "stdout",
          "text": [
            "Model: \"sequential_1\"\n",
            "_________________________________________________________________\n",
            " Layer (type)                Output Shape              Param #   \n",
            "=================================================================\n",
            " conv2d_1 (Conv2D)           (None, 26, 26, 16)        160       \n",
            "                                                                 \n",
            " max_pooling2d_1 (MaxPooling  (None, 13, 13, 16)       0         \n",
            " 2D)                                                             \n",
            "                                                                 \n",
            " conv2d_2 (Conv2D)           (None, 11, 11, 32)        4640      \n",
            "                                                                 \n",
            " max_pooling2d_2 (MaxPooling  (None, 5, 5, 32)         0         \n",
            " 2D)                                                             \n",
            "                                                                 \n",
            " flatten_1 (Flatten)         (None, 800)               0         \n",
            "                                                                 \n",
            " dense_2 (Dense)             (None, 64)                51264     \n",
            "                                                                 \n",
            " dense_3 (Dense)             (None, 10)                650       \n",
            "                                                                 \n",
            "=================================================================\n",
            "Total params: 56,714\n",
            "Trainable params: 56,714\n",
            "Non-trainable params: 0\n",
            "_________________________________________________________________\n"
          ]
        }
      ]
    },
    {
      "cell_type": "code",
      "source": [
        "# Evaluate the model\n",
        "_, accuracy2 = model2.evaluate(x_test, y_test)"
      ],
      "metadata": {
        "colab": {
          "base_uri": "https://localhost:8080/"
        },
        "id": "7okw3UpM5WPb",
        "outputId": "43780818-0572-446d-b26f-61119e6bb2dd"
      },
      "execution_count": 67,
      "outputs": [
        {
          "output_type": "stream",
          "name": "stdout",
          "text": [
            "313/313 [==============================] - 2s 6ms/step - loss: 0.0367 - accuracy: 0.9873\n"
          ]
        }
      ]
    },
    {
      "cell_type": "code",
      "source": [
        "# Define the third CNN architecture\n",
        "model3 = Sequential()\n",
        "model3.add(Conv2D(8, (3, 3), activation='relu', input_shape=(28, 28, 1)))\n",
        "model3.add(MaxPooling2D())\n",
        "model3.add(Conv2D(16, (3, 3), activation='relu'))\n",
        "model3.add(MaxPooling2D())\n",
        "model3.add(Conv2D(32, (3, 3), activation='relu'))\n",
        "model3.add(MaxPooling2D())\n",
        "model3.add(Flatten())\n",
        "model3.add(Dense(64, activation='relu'))\n",
        "model3.add(Dense(10, activation='softmax'))"
      ],
      "metadata": {
        "id": "ccKb5GKM5Zd2"
      },
      "execution_count": 70,
      "outputs": []
    },
    {
      "cell_type": "code",
      "source": [
        "# Compile and train the model\n",
        "model3.compile(optimizer='adam', loss='categorical_crossentropy', metrics=['accuracy'])\n",
        "model3.fit(x_train, y_train, epochs=10, batch_size=128, validation_data=(x_test, y_test))\n"
      ],
      "metadata": {
        "colab": {
          "base_uri": "https://localhost:8080/"
        },
        "id": "Sc4dGyaj5hSM",
        "outputId": "974e83eb-8ae5-4e4f-925e-5a8edd20eec3"
      },
      "execution_count": 71,
      "outputs": [
        {
          "output_type": "stream",
          "name": "stdout",
          "text": [
            "Epoch 1/10\n",
            "469/469 [==============================] - 6s 7ms/step - loss: 0.5829 - accuracy: 0.8182 - val_loss: 0.1995 - val_accuracy: 0.9377\n",
            "Epoch 2/10\n",
            "469/469 [==============================] - 2s 5ms/step - loss: 0.1833 - accuracy: 0.9430 - val_loss: 0.1484 - val_accuracy: 0.9527\n",
            "Epoch 3/10\n",
            "469/469 [==============================] - 2s 5ms/step - loss: 0.1439 - accuracy: 0.9554 - val_loss: 0.1233 - val_accuracy: 0.9635\n",
            "Epoch 4/10\n",
            "469/469 [==============================] - 2s 5ms/step - loss: 0.1221 - accuracy: 0.9624 - val_loss: 0.1152 - val_accuracy: 0.9613\n",
            "Epoch 5/10\n",
            "469/469 [==============================] - 3s 7ms/step - loss: 0.1099 - accuracy: 0.9657 - val_loss: 0.0987 - val_accuracy: 0.9704\n",
            "Epoch 6/10\n",
            "469/469 [==============================] - 3s 6ms/step - loss: 0.0966 - accuracy: 0.9701 - val_loss: 0.0911 - val_accuracy: 0.9723\n",
            "Epoch 7/10\n",
            "469/469 [==============================] - 2s 5ms/step - loss: 0.0908 - accuracy: 0.9715 - val_loss: 0.0888 - val_accuracy: 0.9738\n",
            "Epoch 8/10\n",
            "469/469 [==============================] - 3s 6ms/step - loss: 0.0832 - accuracy: 0.9734 - val_loss: 0.0761 - val_accuracy: 0.9777\n",
            "Epoch 9/10\n",
            "469/469 [==============================] - 2s 5ms/step - loss: 0.0765 - accuracy: 0.9758 - val_loss: 0.0858 - val_accuracy: 0.9739\n",
            "Epoch 10/10\n",
            "469/469 [==============================] - 2s 5ms/step - loss: 0.0730 - accuracy: 0.9767 - val_loss: 0.0762 - val_accuracy: 0.9764\n"
          ]
        },
        {
          "output_type": "execute_result",
          "data": {
            "text/plain": [
              "<keras.callbacks.History at 0x7f3118287ac0>"
            ]
          },
          "metadata": {},
          "execution_count": 71
        }
      ]
    },
    {
      "cell_type": "code",
      "source": [
        "# Evaluate the model\n",
        "_, accuracy3 = model3.evaluate(x_test, y_test)"
      ],
      "metadata": {
        "colab": {
          "base_uri": "https://localhost:8080/"
        },
        "id": "AdCJdF6K5oJa",
        "outputId": "b5b24ba7-876a-45f6-fa4e-ffcd60d04078"
      },
      "execution_count": 72,
      "outputs": [
        {
          "output_type": "stream",
          "name": "stdout",
          "text": [
            "313/313 [==============================] - 1s 3ms/step - loss: 0.0762 - accuracy: 0.9764\n"
          ]
        }
      ]
    },
    {
      "cell_type": "code",
      "source": [
        "import pandas as pd\n",
        "\n",
        "# Create a dictionary to store the results\n",
        "results = {\n",
        "    'Model': ['Model 1', 'Model 2', 'Model 3'],\n",
        "    'Accuracy': [accuracy1, accuracy2, accuracy3],\n",
        "    'Parameters': [model1.count_params(), model2.count_params(), model3.count_params()]\n",
        "}\n",
        "\n",
        "# Create a DataFrame from the results dictionary\n",
        "df = pd.DataFrame(results)\n",
        "\n",
        "# Display the comparison table\n",
        "print(df)"
      ],
      "metadata": {
        "colab": {
          "base_uri": "https://localhost:8080/"
        },
        "id": "ozWnsHY15zCV",
        "outputId": "1ade7a64-71b5-4bf4-e8f4-2ce695a3b343"
      },
      "execution_count": 73,
      "outputs": [
        {
          "output_type": "stream",
          "name": "stdout",
          "text": [
            "     Model  Accuracy  Parameters\n",
            "0  Model 1    0.9871      347146\n",
            "1  Model 2    0.9873       56714\n",
            "2  Model 3    0.9764        8650\n"
          ]
        }
      ]
    },
    {
      "cell_type": "markdown",
      "source": [
        "**Model 2 have highest Accuracy**"
      ],
      "metadata": {
        "id": "rfQQRL606Ahv"
      }
    }
  ]
}