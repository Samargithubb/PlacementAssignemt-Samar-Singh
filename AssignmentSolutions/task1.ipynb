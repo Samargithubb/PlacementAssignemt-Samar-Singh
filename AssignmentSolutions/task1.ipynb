{
  "nbformat": 4,
  "nbformat_minor": 0,
  "metadata": {
    "colab": {
      "provenance": []
    },
    "kernelspec": {
      "name": "python3",
      "display_name": "Python 3"
    },
    "language_info": {
      "name": "python"
    }
  },
  "cells": [
    {
      "cell_type": "markdown",
      "source": [
        "**Implement a stack using a list in Python. Include the necessary methods such as push, pop, and isEmpty.**"
      ],
      "metadata": {
        "id": "DHDP32VAX4a-"
      }
    },
    {
      "cell_type": "code",
      "source": [
        "class Stack:\n",
        "    def __init__(self):\n",
        "        self.stack = []\n",
        "\n",
        "    def push(self, item):\n",
        "        self.stack.append(item)\n",
        "\n",
        "    def pop(self):\n",
        "        if not self.isEmpty():\n",
        "            return self.stack.pop()\n",
        "        else:\n",
        "            print(\"Stack is empty.\")\n",
        "            return None\n",
        "\n",
        "    def isEmpty(self):\n",
        "        return len(self.stack) == 0\n"
      ],
      "metadata": {
        "id": "iMlnh7vpX9QL"
      },
      "execution_count": 1,
      "outputs": []
    },
    {
      "cell_type": "code",
      "source": [
        "stack = Stack()\n",
        "\n",
        "stack.push(1)\n",
        "stack.push(2)\n",
        "stack.push(3)\n",
        "\n",
        "print(stack.pop())\n",
        "print(stack.pop())\n",
        "print(stack.isEmpty())\n",
        "print(stack.pop())\n",
        "print(stack.isEmpty())\n",
        "print(stack.pop())\n"
      ],
      "metadata": {
        "colab": {
          "base_uri": "https://localhost:8080/"
        },
        "id": "bG0fI-l_YBeA",
        "outputId": "1649cc7d-bc25-44a3-a185-09dfc5fdd027"
      },
      "execution_count": 2,
      "outputs": [
        {
          "output_type": "stream",
          "name": "stdout",
          "text": [
            "3\n",
            "2\n",
            "False\n",
            "1\n",
            "True\n",
            "Stack is empty.\n",
            "None\n"
          ]
        }
      ]
    }
  ]
}