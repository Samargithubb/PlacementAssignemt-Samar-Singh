{
  "nbformat": 4,
  "nbformat_minor": 0,
  "metadata": {
    "colab": {
      "provenance": [],
      "gpuType": "T4"
    },
    "kernelspec": {
      "name": "python3",
      "display_name": "Python 3"
    },
    "language_info": {
      "name": "python"
    },
    "accelerator": "GPU"
  },
  "cells": [
    {
      "cell_type": "markdown",
      "source": [
        "Question 2 -\n",
        "Implement 5 different CNN architectures with a comparison table for CIFAR 10\n",
        "dataset using the PyTorch library\n",
        "Note -\n",
        "1. The model parameters for each architecture should not be more than 10000\n",
        "parameters\n",
        "\n",
        "2. Code comments should be given for proper code understanding"
      ],
      "metadata": {
        "id": "dokinpY469yl"
      }
    },
    {
      "cell_type": "code",
      "source": [
        "import tensorflow as tf\n",
        "from tensorflow.keras.models import Sequential\n",
        "from tensorflow.keras.layers import Conv2D, MaxPooling2D, Flatten, Dense\n",
        "from tensorflow.keras.datasets import cifar10\n",
        "from tensorflow.keras.utils import to_categorical\n",
        "import numpy as np"
      ],
      "metadata": {
        "id": "WNLGsy2R69eh"
      },
      "execution_count": 80,
      "outputs": []
    },
    {
      "cell_type": "code",
      "source": [
        "(x_train, y_train),(x_test, y_test) = cifar10.load_data()"
      ],
      "metadata": {
        "id": "v4OFYULn7TXg"
      },
      "execution_count": 81,
      "outputs": []
    },
    {
      "cell_type": "code",
      "source": [],
      "metadata": {
        "id": "CM_juY4d79mU"
      },
      "execution_count": 86,
      "outputs": []
    },
    {
      "cell_type": "code",
      "source": [
        "# Normalize pixel values\n",
        "x_train = x_train.astype('float32') / 255.0\n",
        "x_test = x_test.astype('float32') / 255.0"
      ],
      "metadata": {
        "id": "EXvfh5_Q7c9z"
      },
      "execution_count": 87,
      "outputs": []
    },
    {
      "cell_type": "code",
      "source": [
        "# Convert labels to categorical\n",
        "y_train = to_categorical(y_train)\n",
        "y_test = to_categorical(y_test)"
      ],
      "metadata": {
        "id": "L9KZUzZS7h1f"
      },
      "execution_count": 88,
      "outputs": []
    },
    {
      "cell_type": "code",
      "source": [
        "# Define the first CNN architecture\n",
        "model1 = Sequential()\n",
        "model1.add(Conv2D(32, (3, 3), activation='relu', input_shape=(32,32, 3)))\n",
        "model1.add(MaxPooling2D((2, 2)))\n",
        "model1.add(Flatten())\n",
        "model1.add(Dense(64, activation='relu'))\n",
        "model1.add(Dense(10, activation='softmax'))\n",
        "\n",
        "model1.compile(optimizer='adam', loss='categorical_crossentropy', metrics=['accuracy'])\n",
        "model1.fit(x_train, y_train, epochs=10, batch_size=128, validation_data=(x_test, y_test))\n",
        "\n",
        "# Evaluate the model\n",
        "_, accuracy1 = model1.evaluate(x_test, y_test)"
      ],
      "metadata": {
        "colab": {
          "base_uri": "https://localhost:8080/"
        },
        "id": "mcBJXRVr7ktQ",
        "outputId": "615d1d43-a27a-4569-97aa-a852d05fd8a6"
      },
      "execution_count": 90,
      "outputs": [
        {
          "output_type": "stream",
          "name": "stdout",
          "text": [
            "Epoch 1/10\n",
            "391/391 [==============================] - 5s 7ms/step - loss: 1.6125 - accuracy: 0.4232 - val_loss: 1.3784 - val_accuracy: 0.5021\n",
            "Epoch 2/10\n",
            "391/391 [==============================] - 2s 5ms/step - loss: 1.2871 - accuracy: 0.5463 - val_loss: 1.2443 - val_accuracy: 0.5611\n",
            "Epoch 3/10\n",
            "391/391 [==============================] - 2s 5ms/step - loss: 1.1891 - accuracy: 0.5858 - val_loss: 1.1917 - val_accuracy: 0.5807\n",
            "Epoch 4/10\n",
            "391/391 [==============================] - 2s 5ms/step - loss: 1.1273 - accuracy: 0.6063 - val_loss: 1.1607 - val_accuracy: 0.5960\n",
            "Epoch 5/10\n",
            "391/391 [==============================] - 2s 5ms/step - loss: 1.0754 - accuracy: 0.6249 - val_loss: 1.1295 - val_accuracy: 0.6049\n",
            "Epoch 6/10\n",
            "391/391 [==============================] - 2s 6ms/step - loss: 1.0321 - accuracy: 0.6399 - val_loss: 1.1394 - val_accuracy: 0.5968\n",
            "Epoch 7/10\n",
            "391/391 [==============================] - 2s 6ms/step - loss: 0.9906 - accuracy: 0.6554 - val_loss: 1.1073 - val_accuracy: 0.6160\n",
            "Epoch 8/10\n",
            "391/391 [==============================] - 2s 5ms/step - loss: 0.9576 - accuracy: 0.6670 - val_loss: 1.0911 - val_accuracy: 0.6169\n",
            "Epoch 9/10\n",
            "391/391 [==============================] - 2s 5ms/step - loss: 0.9281 - accuracy: 0.6784 - val_loss: 1.1044 - val_accuracy: 0.6162\n",
            "Epoch 10/10\n",
            "391/391 [==============================] - 2s 5ms/step - loss: 0.8975 - accuracy: 0.6879 - val_loss: 1.0573 - val_accuracy: 0.6386\n",
            "313/313 [==============================] - 1s 2ms/step - loss: 1.0573 - accuracy: 0.6386\n"
          ]
        }
      ]
    },
    {
      "cell_type": "code",
      "source": [
        "# Define the first CNN architecture\n",
        "model2 = Sequential()\n",
        "model2.add(Conv2D(32, (3, 3), activation='relu', input_shape=(32,32, 3)))\n",
        "model2.add(MaxPooling2D())\n",
        "model2.add(Conv2D(64, (3, 3), activation='relu', input_shape=(32,32, 3)))\n",
        "model2.add(MaxPooling2D())\n",
        "model2.add(Flatten())\n",
        "model2.add(Dense(64, activation='relu'))\n",
        "model2.add(Dense(10, activation='softmax'))\n",
        "\n",
        "model2.compile(optimizer='adam', loss='categorical_crossentropy', metrics=['accuracy'])\n",
        "model2.fit(x_train, y_train, epochs=10, batch_size=128, validation_data=(x_test, y_test))\n",
        "\n",
        "# Evaluate the model\n",
        "_, accuracy1 = model2.evaluate(x_test, y_test)"
      ],
      "metadata": {
        "colab": {
          "base_uri": "https://localhost:8080/"
        },
        "id": "864UjvnC7xQs",
        "outputId": "cb7a592c-8fcc-4c61-e91c-3adb4d031d03"
      },
      "execution_count": 91,
      "outputs": [
        {
          "output_type": "stream",
          "name": "stdout",
          "text": [
            "Epoch 1/10\n",
            "391/391 [==============================] - 5s 7ms/step - loss: 1.5822 - accuracy: 0.4263 - val_loss: 1.3690 - val_accuracy: 0.5112\n",
            "Epoch 2/10\n",
            "391/391 [==============================] - 2s 6ms/step - loss: 1.2555 - accuracy: 0.5557 - val_loss: 1.1562 - val_accuracy: 0.5937\n",
            "Epoch 3/10\n",
            "391/391 [==============================] - 2s 6ms/step - loss: 1.1078 - accuracy: 0.6121 - val_loss: 1.1073 - val_accuracy: 0.6196\n",
            "Epoch 4/10\n",
            "391/391 [==============================] - 2s 6ms/step - loss: 1.0277 - accuracy: 0.6432 - val_loss: 1.0121 - val_accuracy: 0.6515\n",
            "Epoch 5/10\n",
            "391/391 [==============================] - 3s 8ms/step - loss: 0.9567 - accuracy: 0.6683 - val_loss: 1.0043 - val_accuracy: 0.6505\n",
            "Epoch 6/10\n",
            "391/391 [==============================] - 2s 6ms/step - loss: 0.9082 - accuracy: 0.6862 - val_loss: 0.9422 - val_accuracy: 0.6733\n",
            "Epoch 7/10\n",
            "391/391 [==============================] - 2s 6ms/step - loss: 0.8601 - accuracy: 0.7043 - val_loss: 0.9613 - val_accuracy: 0.6733\n",
            "Epoch 8/10\n",
            "391/391 [==============================] - 2s 6ms/step - loss: 0.8256 - accuracy: 0.7153 - val_loss: 0.9193 - val_accuracy: 0.6873\n",
            "Epoch 9/10\n",
            "391/391 [==============================] - 2s 6ms/step - loss: 0.7854 - accuracy: 0.7279 - val_loss: 0.9051 - val_accuracy: 0.6868\n",
            "Epoch 10/10\n",
            "391/391 [==============================] - 3s 7ms/step - loss: 0.7518 - accuracy: 0.7407 - val_loss: 0.9035 - val_accuracy: 0.6898\n",
            "313/313 [==============================] - 1s 3ms/step - loss: 0.9035 - accuracy: 0.6898\n"
          ]
        }
      ]
    },
    {
      "cell_type": "code",
      "source": [
        "# Define the first CNN architecture\n",
        "model3 = Sequential()\n",
        "model3.add(Conv2D(16, (3, 3), activation='relu', input_shape=(32,32, 3)))\n",
        "model3.add(MaxPooling2D())\n",
        "model3.add(Conv2D(32, (3, 3), activation='relu', input_shape=(32,32, 3)))\n",
        "model3.add(MaxPooling2D())\n",
        "model3.add(Conv2D(64, (3, 3), activation='relu', input_shape=(32,32, 3)))\n",
        "model3.add(MaxPooling2D())\n",
        "model3.add(Flatten())\n",
        "model3.add(Dense(64, activation='relu'))\n",
        "model3.add(Dense(10, activation='softmax'))\n",
        "\n",
        "model3.compile(optimizer='adam', loss='categorical_crossentropy', metrics=['accuracy'])\n",
        "model3.fit(x_train, y_train, epochs=10, batch_size=128, validation_data=(x_test, y_test))\n",
        "\n",
        "# Evaluate the model\n",
        "_, accuracy1 = model3.evaluate(x_test, y_test)"
      ],
      "metadata": {
        "colab": {
          "base_uri": "https://localhost:8080/"
        },
        "id": "NZ2NmvRT9q6z",
        "outputId": "0777f2a3-afa9-42e7-83a3-2aaaeccda57c"
      },
      "execution_count": 92,
      "outputs": [
        {
          "output_type": "stream",
          "name": "stdout",
          "text": [
            "Epoch 1/10\n",
            "391/391 [==============================] - 6s 10ms/step - loss: 1.7887 - accuracy: 0.3442 - val_loss: 1.5332 - val_accuracy: 0.4424\n",
            "Epoch 2/10\n",
            "391/391 [==============================] - 2s 5ms/step - loss: 1.4243 - accuracy: 0.4858 - val_loss: 1.3284 - val_accuracy: 0.5278\n",
            "Epoch 3/10\n",
            "391/391 [==============================] - 2s 6ms/step - loss: 1.2682 - accuracy: 0.5468 - val_loss: 1.2236 - val_accuracy: 0.5654\n",
            "Epoch 4/10\n",
            "391/391 [==============================] - 2s 6ms/step - loss: 1.1738 - accuracy: 0.5834 - val_loss: 1.1944 - val_accuracy: 0.5768\n",
            "Epoch 5/10\n",
            "391/391 [==============================] - 2s 6ms/step - loss: 1.1110 - accuracy: 0.6088 - val_loss: 1.1116 - val_accuracy: 0.6049\n",
            "Epoch 6/10\n",
            "391/391 [==============================] - 2s 6ms/step - loss: 1.0567 - accuracy: 0.6312 - val_loss: 1.0509 - val_accuracy: 0.6348\n",
            "Epoch 7/10\n",
            "391/391 [==============================] - 3s 7ms/step - loss: 1.0141 - accuracy: 0.6451 - val_loss: 1.0379 - val_accuracy: 0.6409\n",
            "Epoch 8/10\n",
            "391/391 [==============================] - 2s 6ms/step - loss: 0.9795 - accuracy: 0.6569 - val_loss: 1.0020 - val_accuracy: 0.6467\n",
            "Epoch 9/10\n",
            "391/391 [==============================] - 2s 5ms/step - loss: 0.9408 - accuracy: 0.6694 - val_loss: 0.9860 - val_accuracy: 0.6586\n",
            "Epoch 10/10\n",
            "391/391 [==============================] - 2s 5ms/step - loss: 0.9101 - accuracy: 0.6820 - val_loss: 0.9702 - val_accuracy: 0.6593\n",
            "313/313 [==============================] - 1s 4ms/step - loss: 0.9702 - accuracy: 0.6593\n"
          ]
        }
      ]
    }
  ]
}