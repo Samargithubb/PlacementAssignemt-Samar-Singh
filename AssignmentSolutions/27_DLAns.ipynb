{
  "nbformat": 4,
  "nbformat_minor": 0,
  "metadata": {
    "colab": {
      "provenance": [],
      "gpuType": "T4"
    },
    "kernelspec": {
      "name": "python3",
      "display_name": "Python 3"
    },
    "language_info": {
      "name": "python"
    },
    "accelerator": "GPU"
  },
  "cells": [
    {
      "cell_type": "markdown",
      "source": [
        "Train a Pure CNN with less than 10000 trainable parameters using the MNIST\n",
        "Dataset having minimum validation accuracy of 99.40%\n",
        "Note -\n",
        "1. Code comments should be given for proper code understanding.\n",
        "2. Implement in both PyTorch and Tensorflow respectively"
      ],
      "metadata": {
        "id": "AGgrP52h-5zr"
      }
    },
    {
      "cell_type": "code",
      "source": [
        "import tensorflow as tf\n",
        "from tensorflow.keras.models import Sequential\n",
        "from tensorflow.keras.layers import Conv2D, MaxPooling2D, Flatten, Dense\n",
        "from tensorflow.keras.datasets import mnist\n",
        "from tensorflow.keras.utils import to_categorical"
      ],
      "metadata": {
        "id": "vSFavHZ0_BYu"
      },
      "execution_count": 1,
      "outputs": []
    },
    {
      "cell_type": "code",
      "source": [
        "# Load the MNIST dataset\n",
        "(x_train, y_train), (x_test, y_test) = mnist.load_data()"
      ],
      "metadata": {
        "colab": {
          "base_uri": "https://localhost:8080/"
        },
        "id": "8KNl1Xck_EQI",
        "outputId": "f3bc485c-8cc9-43e3-e810-1a4e665c0981"
      },
      "execution_count": 2,
      "outputs": [
        {
          "output_type": "stream",
          "name": "stdout",
          "text": [
            "Downloading data from https://storage.googleapis.com/tensorflow/tf-keras-datasets/mnist.npz\n",
            "11490434/11490434 [==============================] - 1s 0us/step\n"
          ]
        }
      ]
    },
    {
      "cell_type": "code",
      "source": [
        "# Preprocess the data\n",
        "x_train = x_train.reshape(-1, 28, 28, 1).astype('float32') / 255.0\n",
        "x_test = x_test.reshape(-1, 28, 28, 1).astype('float32') / 255.0\n",
        "\n",
        "# Convert labels to categorical\n",
        "y_train = to_categorical(y_train)\n",
        "y_test = to_categorical(y_test)"
      ],
      "metadata": {
        "id": "DyioFuhr_IJx"
      },
      "execution_count": 3,
      "outputs": []
    },
    {
      "cell_type": "code",
      "source": [
        "# Define the CNN model\n",
        "model = Sequential([\n",
        "    Conv2D(16, (3, 3), activation='relu', input_shape=(28, 28, 1)),\n",
        "    MaxPooling2D((2, 2)),\n",
        "    Conv2D(32, (3, 3), activation='relu'),\n",
        "    MaxPooling2D((2, 2)),\n",
        "    Flatten(),\n",
        "    Dense(128, activation='relu'),\n",
        "    Dense(10, activation='softmax')\n",
        "])"
      ],
      "metadata": {
        "id": "l-bAKePI_OgO"
      },
      "execution_count": 4,
      "outputs": []
    },
    {
      "cell_type": "code",
      "source": [
        "# Print the model summary\n",
        "model.summary()"
      ],
      "metadata": {
        "colab": {
          "base_uri": "https://localhost:8080/"
        },
        "id": "xPZYXx37_W1A",
        "outputId": "06e34985-ab2c-441b-a1e8-566b609be7a3"
      },
      "execution_count": 5,
      "outputs": [
        {
          "output_type": "stream",
          "name": "stdout",
          "text": [
            "Model: \"sequential\"\n",
            "_________________________________________________________________\n",
            " Layer (type)                Output Shape              Param #   \n",
            "=================================================================\n",
            " conv2d (Conv2D)             (None, 26, 26, 16)        160       \n",
            "                                                                 \n",
            " max_pooling2d (MaxPooling2D  (None, 13, 13, 16)       0         \n",
            " )                                                               \n",
            "                                                                 \n",
            " conv2d_1 (Conv2D)           (None, 11, 11, 32)        4640      \n",
            "                                                                 \n",
            " max_pooling2d_1 (MaxPooling  (None, 5, 5, 32)         0         \n",
            " 2D)                                                             \n",
            "                                                                 \n",
            " flatten (Flatten)           (None, 800)               0         \n",
            "                                                                 \n",
            " dense (Dense)               (None, 128)               102528    \n",
            "                                                                 \n",
            " dense_1 (Dense)             (None, 10)                1290      \n",
            "                                                                 \n",
            "=================================================================\n",
            "Total params: 108,618\n",
            "Trainable params: 108,618\n",
            "Non-trainable params: 0\n",
            "_________________________________________________________________\n"
          ]
        }
      ]
    },
    {
      "cell_type": "code",
      "source": [
        "# Compile the model\n",
        "model.compile(optimizer='adam', loss='categorical_crossentropy', metrics=['accuracy'])\n"
      ],
      "metadata": {
        "id": "L0L-4TDg_eFK"
      },
      "execution_count": 6,
      "outputs": []
    },
    {
      "cell_type": "code",
      "source": [
        "# Train the model\n",
        "model.fit(x_train, y_train, epochs=10, batch_size=128, validation_data=(x_test, y_test))\n"
      ],
      "metadata": {
        "colab": {
          "base_uri": "https://localhost:8080/"
        },
        "id": "8G9djJHK_m1I",
        "outputId": "dd990de4-b50f-4063-fce4-c68f42727ee4"
      },
      "execution_count": 7,
      "outputs": [
        {
          "output_type": "stream",
          "name": "stdout",
          "text": [
            "Epoch 1/10\n",
            "469/469 [==============================] - 35s 72ms/step - loss: 0.2537 - accuracy: 0.9298 - val_loss: 0.0687 - val_accuracy: 0.9780\n",
            "Epoch 2/10\n",
            "469/469 [==============================] - 32s 67ms/step - loss: 0.0682 - accuracy: 0.9792 - val_loss: 0.0486 - val_accuracy: 0.9836\n",
            "Epoch 3/10\n",
            "469/469 [==============================] - 33s 70ms/step - loss: 0.0496 - accuracy: 0.9849 - val_loss: 0.0450 - val_accuracy: 0.9861\n",
            "Epoch 4/10\n",
            "469/469 [==============================] - 33s 70ms/step - loss: 0.0383 - accuracy: 0.9885 - val_loss: 0.0382 - val_accuracy: 0.9867\n",
            "Epoch 5/10\n",
            "469/469 [==============================] - 33s 71ms/step - loss: 0.0321 - accuracy: 0.9899 - val_loss: 0.0366 - val_accuracy: 0.9883\n",
            "Epoch 6/10\n",
            "469/469 [==============================] - 33s 70ms/step - loss: 0.0261 - accuracy: 0.9920 - val_loss: 0.0285 - val_accuracy: 0.9896\n",
            "Epoch 7/10\n",
            "469/469 [==============================] - 32s 68ms/step - loss: 0.0215 - accuracy: 0.9934 - val_loss: 0.0329 - val_accuracy: 0.9890\n",
            "Epoch 8/10\n",
            "469/469 [==============================] - 33s 70ms/step - loss: 0.0170 - accuracy: 0.9944 - val_loss: 0.0296 - val_accuracy: 0.9909\n",
            "Epoch 9/10\n",
            "469/469 [==============================] - 33s 70ms/step - loss: 0.0162 - accuracy: 0.9950 - val_loss: 0.0310 - val_accuracy: 0.9903\n",
            "Epoch 10/10\n",
            "469/469 [==============================] - 34s 71ms/step - loss: 0.0126 - accuracy: 0.9961 - val_loss: 0.0310 - val_accuracy: 0.9908\n"
          ]
        },
        {
          "output_type": "execute_result",
          "data": {
            "text/plain": [
              "<keras.callbacks.History at 0x7f08c8db6a70>"
            ]
          },
          "metadata": {},
          "execution_count": 7
        }
      ]
    },
    {
      "cell_type": "code",
      "source": [
        "# Evaluate the model on test data\n",
        "_, accuracy = model.evaluate(x_test, y_test)\n",
        "print(\"Test accuracy:\", accuracy)"
      ],
      "metadata": {
        "colab": {
          "base_uri": "https://localhost:8080/"
        },
        "id": "xICSeKU0AJE8",
        "outputId": "9773b992-4fe9-43b9-ed34-4507c35136d9"
      },
      "execution_count": 8,
      "outputs": [
        {
          "output_type": "stream",
          "name": "stdout",
          "text": [
            "313/313 [==============================] - 2s 7ms/step - loss: 0.0310 - accuracy: 0.9908\n",
            "Test accuracy: 0.9908000230789185\n"
          ]
        }
      ]
    }
  ]
}