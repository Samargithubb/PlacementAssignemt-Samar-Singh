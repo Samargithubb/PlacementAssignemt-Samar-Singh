{
  "nbformat": 4,
  "nbformat_minor": 0,
  "metadata": {
    "colab": {
      "provenance": [],
      "gpuType": "T4"
    },
    "kernelspec": {
      "name": "python3",
      "display_name": "Python 3"
    },
    "language_info": {
      "name": "python"
    },
    "accelerator": "GPU"
  },
  "cells": [
    {
      "cell_type": "markdown",
      "source": [
        "\n",
        "**Q-10. A factory produces light bulbs, and the probability of a bulb being defective is 0.05.\n",
        "The factory produces a large batch of 500 light bulbs.**\n",
        "\n",
        "a. What is the probability that exactly 20 bulbs are defective?\n",
        "\n",
        "b. What is the probability that at least 10 bulbs are defective?\n",
        "\n",
        "c. What is the probability that at max 15 bulbs are defective?\n",
        "\n",
        "d. On average, how many defective bulbs would you expect in a batch of 500?\n"
      ],
      "metadata": {
        "id": "0NLQ1YFQAJtf"
      }
    },
    {
      "cell_type": "code",
      "source": [
        "# a. What is the probability that exactly 20 bulbs are defective?\n",
        "import scipy.stats as stats\n",
        "\n",
        "p_defective = 0.05\n",
        "n_bulbs = 500\n",
        "\n",
        "prob_20_defective = stats.binom.pmf(20, n_bulbs, p_defective)\n",
        "print(\"Probability of exactly 20 defective bulbs:\", prob_20_defective)\n",
        "\n"
      ],
      "metadata": {
        "colab": {
          "base_uri": "https://localhost:8080/"
        },
        "id": "se9kmRy5DcTu",
        "outputId": "6f14923c-68c2-4f90-c3d6-5ccd2897fada"
      },
      "execution_count": 17,
      "outputs": [
        {
          "output_type": "stream",
          "name": "stdout",
          "text": [
            "Probability of exactly 20 defective bulbs: 0.051616192536641056\n"
          ]
        }
      ]
    },
    {
      "cell_type": "code",
      "source": [],
      "metadata": {
        "colab": {
          "base_uri": "https://localhost:8080/"
        },
        "id": "RjVwhl6QEy-d",
        "outputId": "9ffeca59-5e0e-4601-a916-a56c627f9f5b"
      },
      "execution_count": 11,
      "outputs": [
        {
          "output_type": "execute_result",
          "data": {
            "text/plain": [
              "0.051616192536639335"
            ]
          },
          "metadata": {},
          "execution_count": 11
        }
      ]
    },
    {
      "cell_type": "code",
      "source": [
        "# b. What is the probability that at least 10 bulbs are defective?\n",
        "\n",
        "prob_at_least_10_defective = 1 - stats.binom.cdf(9, n_bulbs, p_defective)\n",
        "print(\"Probability of at least 10 defective bulbs:\", prob_at_least_10_defective)\n",
        "\n"
      ],
      "metadata": {
        "colab": {
          "base_uri": "https://localhost:8080/"
        },
        "id": "97Y6lAO9EFrh",
        "outputId": "8dbe49cb-713d-473e-e175-a6a749805e89"
      },
      "execution_count": 18,
      "outputs": [
        {
          "output_type": "stream",
          "name": "stdout",
          "text": [
            "Probability of at least 10 defective bulbs: 0.9998316463654902\n"
          ]
        }
      ]
    },
    {
      "cell_type": "code",
      "source": [
        "# c. Probability of at most 15 bulbs being defective\n",
        "prob_max_15_defective = stats.binom.cdf(15, n_bulbs, p_defective)\n",
        "print(\"Probability of at most 15 defective bulbs:\", prob_max_15_defective)"
      ],
      "metadata": {
        "colab": {
          "base_uri": "https://localhost:8080/"
        },
        "id": "xEEunMVJEe1T",
        "outputId": "b253ae51-5123-4568-d17b-ff274b40fc9c"
      },
      "execution_count": 19,
      "outputs": [
        {
          "output_type": "stream",
          "name": "stdout",
          "text": [
            "Probability of at most 15 defective bulbs: 0.01985837716300623\n"
          ]
        }
      ]
    },
    {
      "cell_type": "code",
      "source": [
        "# d. Expected number of defective bulbs\n",
        "expected_defective_bulbs = n_bulbs * p_defective\n",
        "print(\"Expected number of defective bulbs:\", expected_defective_bulbs)\n"
      ],
      "metadata": {
        "colab": {
          "base_uri": "https://localhost:8080/"
        },
        "id": "4gTzi3PcHNt2",
        "outputId": "e6b2dd6c-c041-403d-c885-0c83f710b037"
      },
      "execution_count": 20,
      "outputs": [
        {
          "output_type": "stream",
          "name": "stdout",
          "text": [
            "Expected number of defective bulbs: 25.0\n"
          ]
        }
      ]
    }
  ]
}