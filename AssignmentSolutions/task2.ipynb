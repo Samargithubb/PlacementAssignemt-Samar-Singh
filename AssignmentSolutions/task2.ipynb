{
  "nbformat": 4,
  "nbformat_minor": 0,
  "metadata": {
    "colab": {
      "provenance": []
    },
    "kernelspec": {
      "name": "python3",
      "display_name": "Python 3"
    },
    "language_info": {
      "name": "python"
    }
  },
  "cells": [
    {
      "cell_type": "markdown",
      "source": [
        "**Implement a queue using a list in Python. Include the necessary methods such as enqueue, dequeue, and isEmpty.**"
      ],
      "metadata": {
        "id": "DHDP32VAX4a-"
      }
    },
    {
      "cell_type": "code",
      "source": [
        "class Queue:\n",
        "    def __init__(self):\n",
        "        self.queue = []\n",
        "\n",
        "    def enqueue(self, item):\n",
        "        self.queue.append(item)\n",
        "\n",
        "    def dequeue(self):\n",
        "        if not self.isEmpty():\n",
        "            return self.queue.pop(0)\n",
        "        else:\n",
        "            print(\"Queue is empty.\")\n",
        "            return None\n",
        "\n",
        "    def isEmpty(self):\n",
        "        return len(self.queue) == 0\n",
        "\n"
      ],
      "metadata": {
        "id": "iMlnh7vpX9QL"
      },
      "execution_count": 3,
      "outputs": []
    },
    {
      "cell_type": "code",
      "source": [
        "queue = Queue()\n",
        "\n",
        "queue.enqueue(1)\n",
        "queue.enqueue(2)\n",
        "queue.enqueue(3)\n",
        "\n",
        "print(queue.dequeue())\n",
        "print(queue.dequeue())\n",
        "print(queue.isEmpty())\n",
        "print(queue.dequeue())\n",
        "print(queue.isEmpty())\n",
        "print(queue.dequeue())\n"
      ],
      "metadata": {
        "colab": {
          "base_uri": "https://localhost:8080/"
        },
        "id": "bG0fI-l_YBeA",
        "outputId": "34a219e5-c123-4eab-e759-c4fff076754f"
      },
      "execution_count": 5,
      "outputs": [
        {
          "output_type": "stream",
          "name": "stdout",
          "text": [
            "1\n",
            "2\n",
            "False\n",
            "3\n",
            "True\n",
            "Queue is empty.\n",
            "None\n"
          ]
        }
      ]
    }
  ]
}