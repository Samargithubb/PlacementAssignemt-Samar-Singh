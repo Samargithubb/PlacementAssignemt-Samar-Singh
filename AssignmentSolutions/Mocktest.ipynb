{
  "nbformat": 4,
  "nbformat_minor": 0,
  "metadata": {
    "colab": {
      "provenance": [],
      "gpuType": "T4"
    },
    "kernelspec": {
      "name": "python3",
      "display_name": "Python 3"
    },
    "language_info": {
      "name": "python"
    },
    "accelerator": "GPU"
  },
  "cells": [
    {
      "cell_type": "markdown",
      "source": [
        "**6. Implement a function to remove duplicate elements from a list.**"
      ],
      "metadata": {
        "id": "gTpVpQ67rXR_"
      }
    },
    {
      "cell_type": "markdown",
      "source": [
        "17. Write a function that takes a list of numbers as input and returns a new list containing only the even numbers from the input list. Use list comprehension to solve this problem.\n",
        "\n",
        "Example:\n",
        "\n",
        "Input: [1, 2, 3, 4, 5, 6, 7, 8, 9, 10]\n",
        "\n",
        "Output: [2, 4, 6, 8, 10]"
      ],
      "metadata": {
        "id": "XD5yqBUA8Vnd"
      }
    },
    {
      "cell_type": "code",
      "source": [
        "def ListOfEven(nums):\n",
        "  return [num for num in nums if num%2==0]\n",
        "\n",
        "nums = [1, 2, 3, 4, 5, 6, 7, 8, 9, 10]\n",
        "ListOfEven(nums)\n"
      ],
      "metadata": {
        "id": "dcNp_13q7DYH",
        "colab": {
          "base_uri": "https://localhost:8080/"
        },
        "outputId": "0c9603b5-3567-44bb-8ef8-e4616b0028fe"
      },
      "execution_count": 1,
      "outputs": [
        {
          "output_type": "execute_result",
          "data": {
            "text/plain": [
              "[2, 4, 6, 8, 10]"
            ]
          },
          "metadata": {},
          "execution_count": 1
        }
      ]
    },
    {
      "cell_type": "markdown",
      "source": [
        "18. Implement a decorator function called ‘timer’ that measures the execution time of a function. The ‘timer’ decorator should print the time taken by the decorated function to execute. Use the ‘time’ module in Python to calculate the execution time.\n",
        "\n",
        "Example:\n",
        "\n",
        "import time\n",
        "\n",
        "@timer\n",
        "def my_function():\n",
        "    # Function code goes here\n",
        "    time.sleep(2)\n",
        "\n",
        "my_function()\n",
        "\n",
        "Output:\n",
        "\"Execution time: 2.00123 seconds\""
      ],
      "metadata": {
        "id": "dRjaJICD8b4W"
      }
    },
    {
      "cell_type": "code",
      "source": [
        "import time\n",
        "def timer(func):\n",
        "  def wrapper(*args, **kwargs):\n",
        "    start_time = time.time()\n",
        "    result = func(*args, **kwargs)\n",
        "    end_time =time.time()\n",
        "    execution_time = end_time - start_time\n",
        "    print(f\"Execution time: {execution_time:.5f} seconds\")\n",
        "    return result\n",
        "  return wrapper\n",
        "\n",
        "@timer\n",
        "def my_function():\n",
        "    time.sleep(2)\n",
        "\n",
        "my_function()"
      ],
      "metadata": {
        "colab": {
          "base_uri": "https://localhost:8080/"
        },
        "id": "4Ev-JDfe8NPb",
        "outputId": "fb074166-490d-4ee0-abf0-ce2e877d8d73"
      },
      "execution_count": 6,
      "outputs": [
        {
          "output_type": "stream",
          "name": "stdout",
          "text": [
            "Execution time: 2.00184 seconds\n"
          ]
        }
      ]
    },
    {
      "cell_type": "markdown",
      "source": [
        "19. Write a function called ‘calculate_mean’ that takes a list of numbers as input and returns the mean (average) of the numbers. The function should calculate the mean using the sum of the numbers divided by the total count.\n",
        "\n",
        "Example:\n",
        "\n",
        "def calculate_mean(numbers):\n",
        "    total = sum(numbers)\n",
        "    count = len(numbers)\n",
        "    mean = total / count\n",
        "    return mean\n",
        "\n",
        "data = [10, 15, 20, 25, 30]\n",
        "mean_value = calculate_mean(data)\n",
        "print(\"Mean:\", mean_value)\n",
        "\n",
        "Output:\n",
        "Mean: 20.0\n"
      ],
      "metadata": {
        "id": "XAPDuBUh_mi9"
      }
    },
    {
      "cell_type": "code",
      "source": [
        "def calculate_mean(numbers):\n",
        "    total = sum(numbers)\n",
        "    count = len(numbers)\n",
        "    mean = total / count\n",
        "    return mean\n",
        "\n",
        "data = [10, 15, 20, 25, 30]\n",
        "mean_value = calculate_mean(data)\n",
        "print(\"Mean:\", mean_value)\n",
        "\n"
      ],
      "metadata": {
        "colab": {
          "base_uri": "https://localhost:8080/"
        },
        "id": "GRZ1okwc-TJe",
        "outputId": "dec12c32-bc96-4cad-b876-f4d9f7898e41"
      },
      "execution_count": 8,
      "outputs": [
        {
          "output_type": "stream",
          "name": "stdout",
          "text": [
            "Mean: 20.0\n"
          ]
        }
      ]
    },
    {
      "cell_type": "markdown",
      "source": [
        "20. Write a function called ‘perform_hypothesis_test’ that takes two lists of numbers as input, representing two samples. The function should perform a two-sample t-test and return the p-value. Use the ‘scipy.stats’ module in Python to calculate the t-test and p-value.\n",
        "\n",
        "Example:\n",
        "\n",
        "from scipy import stats\n",
        "\n",
        "def perform_hypothesis_test(sample1, sample2):\n",
        "    t_statistic, p_value = stats.ttest_ind(sample1, sample2)\n",
        "    return p_value\n",
        "\n",
        "sample1 = [5, 10, 15, 20, 25]\n",
        "sample2 = [10, 20, 30, 40, 50]\n",
        "p_value = perform_hypothesis_test(sample1, sample2)\n",
        "print(\"P-value:\", p_value)\n",
        "\n",
        "Output:\n",
        "P-value: 0.1064706396450037\n",
        "8 points\n"
      ],
      "metadata": {
        "id": "uObG830eAGkT"
      }
    },
    {
      "cell_type": "code",
      "source": [
        "from scipy import stats\n",
        "\n",
        "def perform_hypothesis_test(sample1, sample2):\n",
        "    t_statistic, p_value = stats.ttest_ind(sample1, sample2)\n",
        "    return p_value\n",
        "\n",
        "sample1 = [5, 10, 15, 20, 25]\n",
        "sample2 = [10, 20, 30, 40, 50]\n",
        "p_value = perform_hypothesis_test(sample1, sample2)\n",
        "print(\"P-value:\", p_value)\n"
      ],
      "metadata": {
        "colab": {
          "base_uri": "https://localhost:8080/"
        },
        "id": "-vlxVrku_019",
        "outputId": "e3bf41c5-eaaa-400c-ebb3-43c083c357b7"
      },
      "execution_count": 10,
      "outputs": [
        {
          "output_type": "stream",
          "name": "stdout",
          "text": [
            "P-value: 0.09434977284243756\n"
          ]
        }
      ]
    }
  ]
}