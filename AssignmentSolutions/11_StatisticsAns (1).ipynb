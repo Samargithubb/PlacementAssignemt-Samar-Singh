{
  "nbformat": 4,
  "nbformat_minor": 0,
  "metadata": {
    "colab": {
      "provenance": [],
      "gpuType": "T4"
    },
    "kernelspec": {
      "name": "python3",
      "display_name": "Python 3"
    },
    "language_info": {
      "name": "python"
    },
    "accelerator": "GPU"
  },
  "cells": [
    {
      "cell_type": "markdown",
      "source": [
        "Q-3. Consider the ‘Blood Pressure Before’ and ‘Blood Pressure After’ columns from the\n",
        "data and calculate the following\n",
        "\n",
        "https://drive.google.com/file/d/1mCjtYHiX--mMUjicuaP2gH3k-SnFxt8Y/view?usp=share_\n",
        "\n",
        "a. Measure the dispersion in both and interpret the results.\n",
        "\n",
        "b. Calculate mean and 5% confidence interval and plot it in a graph\n",
        "\n",
        "c. Calculate the Mean absolute deviation and Standard deviation and interpret\n",
        "the results.\n",
        "\n",
        "d. Calculate the correlation coefficient and check the significance of it at 1% level\n",
        "of significance."
      ],
      "metadata": {
        "id": "d68OjE09Otye"
      }
    },
    {
      "cell_type": "code",
      "source": [
        "!wget \"https://drive.google.com/uc?id=1mCjtYHiX--mMUjicuaP2gH3k-SnFxt8Y\" -O data.csv"
      ],
      "metadata": {
        "colab": {
          "base_uri": "https://localhost:8080/"
        },
        "id": "b_QVtfBiOmcr",
        "outputId": "f5052ce0-ba07-40ab-f3a6-868610a26eac"
      },
      "execution_count": 17,
      "outputs": [
        {
          "output_type": "stream",
          "name": "stdout",
          "text": [
            "--2023-06-05 06:34:29--  https://drive.google.com/uc?id=1mCjtYHiX--mMUjicuaP2gH3k-SnFxt8Y\n",
            "Resolving drive.google.com (drive.google.com)... 142.250.103.113, 142.250.103.102, 142.250.103.139, ...\n",
            "Connecting to drive.google.com (drive.google.com)|142.250.103.113|:443... connected.\n",
            "HTTP request sent, awaiting response... 303 See Other\n",
            "Location: https://doc-00-90-docs.googleusercontent.com/docs/securesc/ha0ro937gcuc7l7deffksulhg5h7mbp1/pnhp0e5qrqp7jtei7hjolukcc7gleu71/1685946825000/01889132083399369712/*/1mCjtYHiX--mMUjicuaP2gH3k-SnFxt8Y?uuid=aebfad01-88fd-4fb9-b15a-040016749f14 [following]\n",
            "Warning: wildcards not supported in HTTP.\n",
            "--2023-06-05 06:34:30--  https://doc-00-90-docs.googleusercontent.com/docs/securesc/ha0ro937gcuc7l7deffksulhg5h7mbp1/pnhp0e5qrqp7jtei7hjolukcc7gleu71/1685946825000/01889132083399369712/*/1mCjtYHiX--mMUjicuaP2gH3k-SnFxt8Y?uuid=aebfad01-88fd-4fb9-b15a-040016749f14\n",
            "Resolving doc-00-90-docs.googleusercontent.com (doc-00-90-docs.googleusercontent.com)... 142.251.172.132, 2607:f8b0:4001:c61::84\n",
            "Connecting to doc-00-90-docs.googleusercontent.com (doc-00-90-docs.googleusercontent.com)|142.251.172.132|:443... connected.\n",
            "HTTP request sent, awaiting response... 200 OK\n",
            "Length: 1361 (1.3K) [text/csv]\n",
            "Saving to: ‘data.csv’\n",
            "\n",
            "data.csv            100%[===================>]   1.33K  --.-KB/s    in 0s      \n",
            "\n",
            "2023-06-05 06:34:30 (60.7 MB/s) - ‘data.csv’ saved [1361/1361]\n",
            "\n"
          ]
        }
      ]
    },
    {
      "cell_type": "code",
      "source": [
        "#  a. Measure the dispersion in both and interpret the results.\n",
        "import pandas as pd\n",
        "df = pd.read_csv('/content/data.csv')\n",
        "before_variance = df[' Blood Pressure Before (mmHg)'].var()\n",
        "after_variance = df[' Blood Pressure After (mmHg)'].var()\n",
        "print(\"Variance before:\",before_variance,\"Variance after:\",after_variance)"
      ],
      "metadata": {
        "colab": {
          "base_uri": "https://localhost:8080/"
        },
        "id": "9M_-iUyAPOW_",
        "outputId": "9a51cc68-eefc-4270-d225-f2a96302d85c"
      },
      "execution_count": 27,
      "outputs": [
        {
          "output_type": "stream",
          "name": "stdout",
          "text": [
            "Variance before: 43.53727272727272 Variance after: 47.44484848484848\n"
          ]
        }
      ]
    },
    {
      "cell_type": "code",
      "source": [
        "# b. Calculate mean and 5% confidence interval and plot it in a graph\n",
        "import numpy as np\n",
        "import matplotlib.pyplot as plt \n",
        "from scipy import stats\n",
        "mean = np.mean(df)\n",
        "print(mean)\n",
        "confidence_interval = stats.t.interval(0.95, len(df) -1, loc=mean, scale=stats.sem(df))\n",
        "print(\"Confidence Interval (95%):\", confidence_interval)\n",
        "#plot the bar graph\n",
        "plt.figure()\n",
        "plt.bar(x=1, height =mean, color='blue')\n",
        "plt.xticks([])\n",
        "plt.xlim(0.5, 1.5)\n",
        "plt.ylabel(\"Values\")\n",
        "plt.title(\"Mean and 5% Confidence Interval\")\n",
        "plt.show()"
      ],
      "metadata": {
        "colab": {
          "base_uri": "https://localhost:8080/",
          "height": 578
        },
        "id": "0QHshtbGRE0o",
        "outputId": "e3b891e3-eccd-4dea-d6e6-bcd017cde451"
      },
      "execution_count": 35,
      "outputs": [
        {
          "output_type": "stream",
          "name": "stdout",
          "text": [
            "Patient ID                        50.50\n",
            " Blood Pressure Before (mmHg)    133.91\n",
            " Blood Pressure After (mmHg)     128.36\n",
            "dtype: float64\n",
            "Confidence Interval (95%): (array([ 44.74349058, 132.60075849, 126.99326698]), array([ 56.25650942, 135.21924151, 129.72673302]))\n"
          ]
        },
        {
          "output_type": "stream",
          "name": "stderr",
          "text": [
            "/usr/local/lib/python3.10/dist-packages/numpy/core/fromnumeric.py:3472: FutureWarning: In a future version, DataFrame.mean(axis=None) will return a scalar mean over the entire DataFrame. To retain the old behavior, use 'frame.mean(axis=0)' or just 'frame.mean()'\n",
            "  return mean(axis=axis, dtype=dtype, out=out, **kwargs)\n"
          ]
        },
        {
          "output_type": "display_data",
          "data": {
            "text/plain": [
              "<Figure size 640x480 with 1 Axes>"
            ],
            "image/png": "[encoded data removed]"
          },
          "metadata": {}
        }
      ]
    },
    {
      "cell_type": "code",
      "source": [
        "# c. Calculate the Mean absolute deviation and Standard deviation and interpret the results\n",
        "ms = np.mean(np.abs(df - np.mean(df)))\n",
        "sd = np.std(df)\n",
        "print(\"Mean absolute deviation\",ms)\n",
        "print(\"standard deviation\",sd)\n"
      ],
      "metadata": {
        "colab": {
          "base_uri": "https://localhost:8080/"
        },
        "id": "KCJ4orKhRGTk",
        "outputId": "23d09e51-ba7f-4754-8957-e748acf1b6c6"
      },
      "execution_count": 37,
      "outputs": [
        {
          "output_type": "stream",
          "name": "stdout",
          "text": [
            "Mean absolute deviation Patient ID                       25.0000\n",
            " Blood Pressure Before (mmHg)     5.7118\n",
            " Blood Pressure After (mmHg)      5.9000\n",
            "dtype: float64\n",
            "standard deviation Patient ID                       28.866070\n",
            " Blood Pressure Before (mmHg)     6.565204\n",
            " Blood Pressure After (mmHg)      6.853495\n",
            "dtype: float64\n"
          ]
        },
        {
          "output_type": "stream",
          "name": "stderr",
          "text": [
            "/usr/local/lib/python3.10/dist-packages/numpy/core/fromnumeric.py:3472: FutureWarning: In a future version, DataFrame.mean(axis=None) will return a scalar mean over the entire DataFrame. To retain the old behavior, use 'frame.mean(axis=0)' or just 'frame.mean()'\n",
            "  return mean(axis=axis, dtype=dtype, out=out, **kwargs)\n",
            "/usr/local/lib/python3.10/dist-packages/numpy/core/fromnumeric.py:3472: FutureWarning: In a future version, DataFrame.mean(axis=None) will return a scalar mean over the entire DataFrame. To retain the old behavior, use 'frame.mean(axis=0)' or just 'frame.mean()'\n",
            "  return mean(axis=axis, dtype=dtype, out=out, **kwargs)\n"
          ]
        }
      ]
    },
    {
      "cell_type": "code",
      "source": [
        "#d Calculate the correlation coefficient and check the significance of it at 1% level of significance.\n",
        "variable1 = df[' Blood Pressure Before (mmHg)']\n",
        "variable2 = df[' Blood Pressure After (mmHg)']\n",
        "\n",
        "# Calculate the correlation coefficient and p-value\n",
        "correlation_coefficient, p_value = stats.pearsonr(variable1, variable2)\n",
        "\n",
        "# Print the correlation coefficient and p-value\n",
        "print(\"Correlation Coefficient:\", correlation_coefficient)\n",
        "print(\"p-value:\", p_value)\n",
        "\n",
        "# Check the significance at 1% level\n",
        "if p_value < 0.01:\n",
        "    print(\"The correlation coefficient is significant at the 1% level.\")\n",
        "else:\n",
        "    print(\"The correlation coefficient is not significant at the 1% level.\")\n"
      ],
      "metadata": {
        "colab": {
          "base_uri": "https://localhost:8080/"
        },
        "id": "-f6Wty8UYFeL",
        "outputId": "e2d9eb2b-3cf7-4092-8e79-d067b1f7a73b"
      },
      "execution_count": 38,
      "outputs": [
        {
          "output_type": "stream",
          "name": "stdout",
          "text": [
            "Correlation Coefficient: 0.9779485966556017\n",
            "p-value: 1.8097381433068578e-68\n",
            "The correlation coefficient is significant at the 1% level.\n"
          ]
        }
      ]
    }
  ]
}