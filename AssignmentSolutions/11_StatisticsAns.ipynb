{
  "nbformat": 4,
  "nbformat_minor": 0,
  "metadata": {
    "colab": {
      "provenance": [],
      "gpuType": "T4"
    },
    "kernelspec": {
      "name": "python3",
      "display_name": "Python 3"
    },
    "language_info": {
      "name": "python"
    },
    "accelerator": "GPU"
  },
  "cells": [
    {
      "cell_type": "markdown",
      "source": [
        " Q-2. Consider a dataset containing the heights (in centimeters) of 1000 individuals. The mean height is 170 cm with a standard deviation of 10 cm. The dataset is approximately normally distributed, and its skewness is approximately zero. Based on this information, answer the following questions: \n",
        " \n",
        "a. What percentage of individuals in the dataset have heights between 160 cm and 180 cm?\n",
        "\n",
        "b. If we randomly select 100 individuals from the dataset, what is the probability that their average height is greater than 175 cm?\n",
        "\n",
        "c. Assuming the dataset follows a normal distribution, what is the z-score\n",
        "corresponding to a height of 185 cm?\n",
        "\n",
        "d. We know that 5% of the dataset has heights below a certain value. What is\n",
        "the approximate height corresponding to this threshold?\n",
        "\n",
        "e. Calculate the coefficient of variation (CV) for the dataset.\n",
        "\n",
        "f. Calculate the skewness of the dataset and interpret the result."
      ],
      "metadata": {
        "id": "6xOuOCq9FFCc"
      }
    },
    {
      "cell_type": "code",
      "source": [
        "# a Ans:\n",
        "\"\"\" \n",
        "stats.norm.cdf(180, mean, std_dev) calculates the cumulative probability up to a height of 180 cm.\n",
        "\n",
        "stats.norm.cdf(160, mean, std_dev) calculates the cumulative probability up to a height of 160 cm.\n",
        "\"\"\"\n",
        "\n",
        "import scipy.stats as stats\n",
        "\n",
        "mean = 170\n",
        "std_dev = 10\n",
        "percentage = (stats.norm.cdf(180, mean, std_dev) - stats.norm.cdf(160, mean, std_dev)) *100\n",
        "print(percentage.round(2))\n"
      ],
      "metadata": {
        "colab": {
          "base_uri": "https://localhost:8080/"
        },
        "id": "6SnYVlFPEt-9",
        "outputId": "da6af998-acb9-4e49-9b38-4c4891aee089"
      },
      "execution_count": 3,
      "outputs": [
        {
          "output_type": "stream",
          "name": "stdout",
          "text": [
            "68.27\n"
          ]
        }
      ]
    },
    {
      "cell_type": "code",
      "source": [
        "# b Ans:\n",
        "\"\"\"\n",
        "The probability variable is calculated by subtracting the cumulative probability at 175 cm \n",
        "from 1. Since we are interested in the probability that the average height is greater than 175 cm,\n",
        " we subtract the cumulative probability up to 175 cm from 1.\n",
        "\"\"\"\n",
        "\n",
        "sample_size = 100\n",
        "sample_mean = 170\n",
        "sample_std_dev = std_dev / (sample_size ** 0.5)\n",
        "\n",
        "probability = 1- stats.norm.cdf(175, sample_mean, sample_std_dev)\n",
        "\n",
        "print(probability)"
      ],
      "metadata": {
        "colab": {
          "base_uri": "https://localhost:8080/"
        },
        "id": "Jxb_00tfGUNM",
        "outputId": "c667a906-3376-4fb3-d95c-e792498d4572"
      },
      "execution_count": 5,
      "outputs": [
        {
          "output_type": "stream",
          "name": "stdout",
          "text": [
            "2.866515719235352e-07\n"
          ]
        }
      ]
    },
    {
      "cell_type": "code",
      "source": [
        "# c Ans:\n",
        "# By calculating the z-score, we can determine how far a data point is from the mean in terms of standard deviations.\n",
        "height =185\n",
        "mean = 170\n",
        "\n",
        "z_score = (height - mean) /std_dev\n",
        "print(z_score)\n"
      ],
      "metadata": {
        "colab": {
          "base_uri": "https://localhost:8080/"
        },
        "id": "5vCKFg0WIHHL",
        "outputId": "0d52d22a-a14e-4a6d-fc86-9e53c335f9bb"
      },
      "execution_count": 6,
      "outputs": [
        {
          "output_type": "stream",
          "name": "stdout",
          "text": [
            "1.5\n"
          ]
        }
      ]
    },
    {
      "cell_type": "code",
      "source": [
        "# d Ans:\n",
        "height = stats.norm.ppf(0.05, mean, std_dev)\n",
        "print(height)"
      ],
      "metadata": {
        "colab": {
          "base_uri": "https://localhost:8080/"
        },
        "id": "la5eBOjDJ78S",
        "outputId": "3e9851b0-3478-4d97-af6d-ce59f478e988"
      },
      "execution_count": 8,
      "outputs": [
        {
          "output_type": "stream",
          "name": "stdout",
          "text": [
            "153.55146373048527\n"
          ]
        }
      ]
    },
    {
      "cell_type": "code",
      "source": [
        "# e Ans:\n",
        "cv = (std_dev / mean) *100\n",
        "print(cv)"
      ],
      "metadata": {
        "colab": {
          "base_uri": "https://localhost:8080/"
        },
        "id": "VwayHGHNKokL",
        "outputId": "baa5cc01-c660-4eb1-e2a6-c0400919262c"
      },
      "execution_count": 9,
      "outputs": [
        {
          "output_type": "stream",
          "name": "stdout",
          "text": [
            "5.88235294117647\n"
          ]
        }
      ]
    },
    {
      "cell_type": "markdown",
      "source": [
        "#### (F) Ans:\n",
        "If the skewness of the dataset is approximately zero, it suggests that the heights of the individuals in the dataset are distributed symmetrically around the mean of 170 cm. This means that there is no significant skew or imbalance in the distribution of heights, and the data is evenly distributed on both sides of the mean."
      ],
      "metadata": {
        "id": "gjI4X6bGMP3V"
      }
    }
  ]
}