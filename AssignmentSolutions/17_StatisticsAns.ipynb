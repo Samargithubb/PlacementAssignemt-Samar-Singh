{
  "nbformat": 4,
  "nbformat_minor": 0,
  "metadata": {
    "colab": {
      "provenance": [],
      "gpuType": "T4"
    },
    "kernelspec": {
      "name": "python3",
      "display_name": "Python 3"
    },
    "language_info": {
      "name": "python"
    },
    "accelerator": "GPU"
  },
  "cells": [
    {
      "cell_type": "markdown",
      "source": [
        "\n",
        "**Q-11. Given the data of a feature contributing to different classes**\n",
        "\n",
        "https://drive.google.com/file/d/1mCjtYHiX--mMUjicuaP2gH3k-SnFxt8Y/view?usp=share_\n",
        "\n",
        "a. Check whether the distribution of all the classes are the same or not.\n",
        "\n",
        "b. Check for the equality of variance\n",
        "\n",
        "c. Which amount LDA and QDA would perform better on this data for classification and why.\n",
        "\n",
        "d. Check the equality of mean for between all the classes."
      ],
      "metadata": {
        "id": "0NLQ1YFQAJtf"
      }
    },
    {
      "cell_type": "code",
      "source": [
        "!wget 'https://drive.google.com/uc?id=1mCjtYHiX--mMUjicuaP2gH3k-SnFxt8Y' -O data.csv\n"
      ],
      "metadata": {
        "colab": {
          "base_uri": "https://localhost:8080/"
        },
        "id": "R-pWWpEpIbIb",
        "outputId": "d4f6decc-cf96-4124-b98c-087c17fc327d"
      },
      "execution_count": 43,
      "outputs": [
        {
          "output_type": "stream",
          "name": "stdout",
          "text": [
            "--2023-06-05 10:57:57--  https://drive.google.com/uc?id=1mCjtYHiX--mMUjicuaP2gH3k-SnFxt8Y\n",
            "Resolving drive.google.com (drive.google.com)... 142.250.31.101, 142.250.31.102, 142.250.31.100, ...\n",
            "Connecting to drive.google.com (drive.google.com)|142.250.31.101|:443... connected.\n",
            "HTTP request sent, awaiting response... 303 See Other\n",
            "Location: https://doc-00-90-docs.googleusercontent.com/docs/securesc/ha0ro937gcuc7l7deffksulhg5h7mbp1/chpe2tov4jqk1oa0ul823466ngdie68i/1685962650000/01889132083399369712/*/1mCjtYHiX--mMUjicuaP2gH3k-SnFxt8Y?uuid=098e491c-2404-4ffe-90af-b6318ec44313 [following]\n",
            "Warning: wildcards not supported in HTTP.\n",
            "--2023-06-05 10:57:58--  https://doc-00-90-docs.googleusercontent.com/docs/securesc/ha0ro937gcuc7l7deffksulhg5h7mbp1/chpe2tov4jqk1oa0ul823466ngdie68i/1685962650000/01889132083399369712/*/1mCjtYHiX--mMUjicuaP2gH3k-SnFxt8Y?uuid=098e491c-2404-4ffe-90af-b6318ec44313\n",
            "Resolving doc-00-90-docs.googleusercontent.com (doc-00-90-docs.googleusercontent.com)... 142.251.163.132, 2607:f8b0:4004:c1b::84\n",
            "Connecting to doc-00-90-docs.googleusercontent.com (doc-00-90-docs.googleusercontent.com)|142.251.163.132|:443... connected.\n",
            "HTTP request sent, awaiting response... 200 OK\n",
            "Length: 1361 (1.3K) [text/csv]\n",
            "Saving to: ‘data.csv’\n",
            "\n",
            "data.csv            100%[===================>]   1.33K  --.-KB/s    in 0s      \n",
            "\n",
            "2023-06-05 10:57:58 (79.4 MB/s) - ‘data.csv’ saved [1361/1361]\n",
            "\n"
          ]
        }
      ]
    },
    {
      "cell_type": "code",
      "source": [
        "df =pd.read_csv('data.csv')\n",
        "df.head()"
      ],
      "metadata": {
        "colab": {
          "base_uri": "https://localhost:8080/",
          "height": 206
        },
        "id": "pM3YXysOI8TI",
        "outputId": "c6049015-1129-40fa-bfcc-714058b5eef5"
      },
      "execution_count": 46,
      "outputs": [
        {
          "output_type": "execute_result",
          "data": {
            "text/plain": [
              "   Patient ID   Blood Pressure Before (mmHg)   Blood Pressure After (mmHg)\n",
              "0           1                            130                           120\n",
              "1           2                            142                           135\n",
              "2           3                            120                           118\n",
              "3           4                            135                           127\n",
              "4           5                            148                           140"
            ],
            "text/html": [
              "\n",
              "  <div id=\"df-4cbb637d-e2a3-4fba-b271-b771df07f445\">\n",
              "    <div class=\"colab-df-container\">\n",
              "      <div>\n",
              "<style scoped>\n",
              "    .dataframe tbody tr th:only-of-type {\n",
              "        vertical-align: middle;\n",
              "    }\n",
              "\n",
              "    .dataframe tbody tr th {\n",
              "        vertical-align: top;\n",
              "    }\n",
              "\n",
              "    .dataframe thead th {\n",
              "        text-align: right;\n",
              "    }\n",
              "</style>\n",
              "<table border=\"1\" class=\"dataframe\">\n",
              "  <thead>\n",
              "    <tr style=\"text-align: right;\">\n",
              "      <th></th>\n",
              "      <th>Patient ID</th>\n",
              "      <th>Blood Pressure Before (mmHg)</th>\n",
              "      <th>Blood Pressure After (mmHg)</th>\n",
              "    </tr>\n",
              "  </thead>\n",
              "  <tbody>\n",
              "    <tr>\n",
              "      <th>0</th>\n",
              "      <td>1</td>\n",
              "      <td>130</td>\n",
              "      <td>120</td>\n",
              "    </tr>\n",
              "    <tr>\n",
              "      <th>1</th>\n",
              "      <td>2</td>\n",
              "      <td>142</td>\n",
              "      <td>135</td>\n",
              "    </tr>\n",
              "    <tr>\n",
              "      <th>2</th>\n",
              "      <td>3</td>\n",
              "      <td>120</td>\n",
              "      <td>118</td>\n",
              "    </tr>\n",
              "    <tr>\n",
              "      <th>3</th>\n",
              "      <td>4</td>\n",
              "      <td>135</td>\n",
              "      <td>127</td>\n",
              "    </tr>\n",
              "    <tr>\n",
              "      <th>4</th>\n",
              "      <td>5</td>\n",
              "      <td>148</td>\n",
              "      <td>140</td>\n",
              "    </tr>\n",
              "  </tbody>\n",
              "</table>\n",
              "</div>\n",
              "      <button class=\"colab-df-convert\" onclick=\"convertToInteractive('df-4cbb637d-e2a3-4fba-b271-b771df07f445')\"\n",
              "              title=\"Convert this dataframe to an interactive table.\"\n",
              "              style=\"display:none;\">\n",
              "        \n",
              "  <svg xmlns=\"http://www.w3.org/2000/svg\" height=\"24px\"viewBox=\"0 0 24 24\"\n",
              "       width=\"24px\">\n",
              "    <path d=\"M0 0h24v24H0V0z\" fill=\"none\"/>\n",
              "    <path d=\"M18.56 5.44l.94 2.06.94-2.06 2.06-.94-2.06-.94-.94-2.06-.94 2.06-2.06.94zm-11 1L8.5 8.5l.94-2.06 2.06-.94-2.06-.94L8.5 2.5l-.94 2.06-2.06.94zm10 10l.94 2.06.94-2.06 2.06-.94-2.06-.94-.94-2.06-.94 2.06-2.06.94z\"/><path d=\"M17.41 7.96l-1.37-1.37c-.4-.4-.92-.59-1.43-.59-.52 0-1.04.2-1.43.59L10.3 9.45l-7.72 7.72c-.78.78-.78 2.05 0 2.83L4 21.41c.39.39.9.59 1.41.59.51 0 1.02-.2 1.41-.59l7.78-7.78 2.81-2.81c.8-.78.8-2.07 0-2.86zM5.41 20L4 18.59l7.72-7.72 1.47 1.35L5.41 20z\"/>\n",
              "  </svg>\n",
              "      </button>\n",
              "      \n",
              "  <style>\n",
              "    .colab-df-container {\n",
              "      display:flex;\n",
              "      flex-wrap:wrap;\n",
              "      gap: 12px;\n",
              "    }\n",
              "\n",
              "    .colab-df-convert {\n",
              "      background-color: #E8F0FE;\n",
              "      border: none;\n",
              "      border-radius: 50%;\n",
              "      cursor: pointer;\n",
              "      display: none;\n",
              "      fill: #1967D2;\n",
              "      height: 32px;\n",
              "      padding: 0 0 0 0;\n",
              "      width: 32px;\n",
              "    }\n",
              "\n",
              "    .colab-df-convert:hover {\n",
              "      background-color: #E2EBFA;\n",
              "      box-shadow: 0px 1px 2px rgba(60, 64, 67, 0.3), 0px 1px 3px 1px rgba(60, 64, 67, 0.15);\n",
              "      fill: #174EA6;\n",
              "    }\n",
              "\n",
              "    [theme=dark] .colab-df-convert {\n",
              "      background-color: #3B4455;\n",
              "      fill: #D2E3FC;\n",
              "    }\n",
              "\n",
              "    [theme=dark] .colab-df-convert:hover {\n",
              "      background-color: #434B5C;\n",
              "      box-shadow: 0px 1px 3px 1px rgba(0, 0, 0, 0.15);\n",
              "      filter: drop-shadow(0px 1px 2px rgba(0, 0, 0, 0.3));\n",
              "      fill: #FFFFFF;\n",
              "    }\n",
              "  </style>\n",
              "\n",
              "      <script>\n",
              "        const buttonEl =\n",
              "          document.querySelector('#df-4cbb637d-e2a3-4fba-b271-b771df07f445 button.colab-df-convert');\n",
              "        buttonEl.style.display =\n",
              "          google.colab.kernel.accessAllowed ? 'block' : 'none';\n",
              "\n",
              "        async function convertToInteractive(key) {\n",
              "          const element = document.querySelector('#df-4cbb637d-e2a3-4fba-b271-b771df07f445');\n",
              "          const dataTable =\n",
              "            await google.colab.kernel.invokeFunction('convertToInteractive',\n",
              "                                                     [key], {});\n",
              "          if (!dataTable) return;\n",
              "\n",
              "          const docLinkHtml = 'Like what you see? Visit the ' +\n",
              "            '<a target=\"_blank\" href=https://colab.research.google.com/notebooks/data_table.ipynb>data table notebook</a>'\n",
              "            + ' to learn more about interactive tables.';\n",
              "          element.innerHTML = '';\n",
              "          dataTable['output_type'] = 'display_data';\n",
              "          await google.colab.output.renderOutput(dataTable, element);\n",
              "          const docLink = document.createElement('div');\n",
              "          docLink.innerHTML = docLinkHtml;\n",
              "          element.appendChild(docLink);\n",
              "        }\n",
              "      </script>\n",
              "    </div>\n",
              "  </div>\n",
              "  "
            ]
          },
          "metadata": {},
          "execution_count": 46
        }
      ]
    },
    {
      "cell_type": "code",
      "source": [
        "# a. Check whether the distribution of all the classes are the same or not.\n",
        "class_distribution = df[' Blood Pressure Before (mmHg)'].value_counts()\n",
        "print(\"Class Distribution:\\n\", class_distribution)"
      ],
      "metadata": {
        "colab": {
          "base_uri": "https://localhost:8080/"
        },
        "id": "9IHr98RLLUKI",
        "outputId": "25feae7a-0e9f-408d-d779-2ca7240582c8"
      },
      "execution_count": 47,
      "outputs": [
        {
          "output_type": "stream",
          "name": "stdout",
          "text": [
            "Class Distribution:\n",
            " 128    12\n",
            "127    11\n",
            "136    11\n",
            "135     8\n",
            "130     7\n",
            "145     6\n",
            "139     6\n",
            "143     6\n",
            "124     6\n",
            "140     6\n",
            "132     6\n",
            "142     6\n",
            "131     5\n",
            "137     1\n",
            "122     1\n",
            "148     1\n",
            "120     1\n",
            "Name:  Blood Pressure Before (mmHg), dtype: int64\n"
          ]
        }
      ]
    },
    {
      "cell_type": "code",
      "source": [
        "# Check for the equality of variance\n",
        "variance_before = df[' Blood Pressure Before (mmHg)'].var()\n",
        "variance_after = df[' Blood Pressure After (mmHg)'].var()\n",
        "print(\"Variance - Before: \", variance_before)\n",
        "print(\"Variance - After: \", variance_after)"
      ],
      "metadata": {
        "colab": {
          "base_uri": "https://localhost:8080/"
        },
        "id": "HieHyefGJL4k",
        "outputId": "3ae6d2dc-4412-48f5-975f-e6f39f20d6a4"
      },
      "execution_count": 48,
      "outputs": [
        {
          "output_type": "stream",
          "name": "stdout",
          "text": [
            "Variance - Before:  43.53727272727272\n",
            "Variance - After:  47.44484848484848\n"
          ]
        }
      ]
    },
    {
      "cell_type": "code",
      "source": [
        "# c. Which amount LDA and QDA would perform better on this data for classification and why\n",
        "# LDA assumes equal class covariance matrices and uses linear decision boundaries\n",
        "# QDA relaxes the assumption of equal class covariance matrices and uses quadratic decision boundaries\n"
      ],
      "metadata": {
        "id": "VZjCTYcfONaG"
      },
      "execution_count": null,
      "outputs": []
    },
    {
      "cell_type": "code",
      "source": [
        "# d. Check the equality of mean between all the classes\n",
        "mean_before = df[' Blood Pressure Before (mmHg)'].mean()\n",
        "mean_after = df[' Blood Pressure After (mmHg)'].mean()\n",
        "print(\"Mean - Before: \", mean_before)\n",
        "print(\"Mean - After: \", mean_after)"
      ],
      "metadata": {
        "colab": {
          "base_uri": "https://localhost:8080/"
        },
        "id": "N6UJtbeGOnxV",
        "outputId": "cd191ec8-43a0-42fb-9ac0-c66bfcb6d9e9"
      },
      "execution_count": 49,
      "outputs": [
        {
          "output_type": "stream",
          "name": "stdout",
          "text": [
            "Mean - Before:  133.91\n",
            "Mean - After:  128.36\n"
          ]
        }
      ]
    }
  ]
}